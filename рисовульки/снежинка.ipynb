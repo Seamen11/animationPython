{
 "cells": [
  {
   "cell_type": "code",
   "execution_count": 2,
   "metadata": {
    "collapsed": true
   },
   "outputs": [],
   "source": [
    "import tkinter as tk\n",
    "import math\n",
    "\n",
    "class KochSnowflakeCanvas(tk.Canvas):\n",
    "    def __init__(self, parent, order=3, size=200, *args, **kwargs):\n",
    "        super().__init__(parent, *args, **kwargs)\n",
    "        self.order = order\n",
    "        self.size = size\n",
    "        self.bind(\"<Configure>\", self.draw)\n",
    "\n",
    "    def koch_snowflake(self, x1, y1, x2, y2, order):\n",
    "        if order == 0:\n",
    "            self.create_line(x1, y1, x2, y2, width=2)\n",
    "            return\n",
    "        length = math.sqrt((x2 - x1) ** 2 + (y2 - y1) ** 2)\n",
    "        angle = math.atan2(y2 - y1, x2 - x1)\n",
    "        segment_length = length / 3.0\n",
    "        x2_new = x1 + math.cos(angle) * segment_length\n",
    "        y2_new = y1 + math.sin(angle) * segment_length\n",
    "        x4_new = x2 - math.cos(angle) * segment_length\n",
    "        y4_new = y2 - math.sin(angle) * segment_length\n",
    "        x3_new = x2_new + math.cos(angle - math.pi / 3) * segment_length\n",
    "        y3_new = y2_new + math.sin(angle - math.pi / 3) * segment_length\n",
    "        self.koch_snowflake(x1, y1, x2_new, y2_new, order-1)\n",
    "        self.koch_snowflake(x2_new, y2_new, x3_new, y3_new, order-1)\n",
    "        self.koch_snowflake(x3_new, y3_new, x4_new, y4_new, order-1)\n",
    "        self.koch_snowflake(x4_new, y4_new, x2, y2, order-1)\n",
    "\n",
    "\n",
    "    def draw(self, event=None):\n",
    "        self.delete(\"all\")\n",
    "        width = self.winfo_width()\n",
    "        height = self.winfo_height()\n",
    "        center_x = width / 2\n",
    "        center_y = height / 2\n",
    "        self.size = min(width, height) - 10\n",
    "        half_size = self.size/2\n",
    "        height = self.size * math.sqrt(3) / 2\n",
    "        x1 = center_x - height / 3\n",
    "        y1 = center_y - self.size / 3\n",
    "        x2 = center_x + height / 3\n",
    "        y2 = center_y - self.size / 3\n",
    "        x3 = center_x\n",
    "        y3 = center_y - self.size / 3 + height * 2 / 3\n",
    "        self.koch_snowflake(x1, y1, x2, y2, self.order)\n",
    "        self.koch_snowflake(x2, y2, x3, y3, self.order)\n",
    "        self.koch_snowflake(x3, y3, x1, y1, self.order)\n",
    "        self.update()\n",
    "\n",
    "\n",
    "root = tk.Tk()\n",
    "canvas = KochSnowflakeCanvas(root, width=400, height=400, bg=\"white\")\n",
    "canvas.pack(fill=\"both\", expand=True)\n",
    "root.mainloop()\n"
   ]
  },
  {
   "cell_type": "code",
   "execution_count": null,
   "outputs": [],
   "source": [],
   "metadata": {
    "collapsed": false,
    "pycharm": {
     "is_executing": true
    }
   }
  },
  {
   "cell_type": "code",
   "execution_count": 1,
   "outputs": [],
   "source": [],
   "metadata": {
    "collapsed": false
   }
  }
 ],
 "metadata": {
  "kernelspec": {
   "display_name": "Python 3",
   "language": "python",
   "name": "python3"
  },
  "language_info": {
   "codemirror_mode": {
    "name": "ipython",
    "version": 2
   },
   "file_extension": ".py",
   "mimetype": "text/x-python",
   "name": "python",
   "nbconvert_exporter": "python",
   "pygments_lexer": "ipython2",
   "version": "2.7.6"
  }
 },
 "nbformat": 4,
 "nbformat_minor": 0
}
