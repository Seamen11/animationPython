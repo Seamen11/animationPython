{
 "cells": [
  {
   "cell_type": "code",
   "execution_count": null,
   "metadata": {
    "collapsed": true
   },
   "outputs": [],
   "source": []
  },
  {
   "cell_type": "code",
   "execution_count": null,
   "outputs": [],
   "source": [
    "import numpy as np\n",
    "def calculate_circle(points):\n",
    "    \"\"\"Находит центр и радиус окружности, вписанной в треугольник\"\"\"\n",
    "    x1, y1 = points[0]\n",
    "    x2, y2 = points[1]\n",
    "    x3, y3 = points[2]\n",
    "    A = x2 - x1\n",
    "    B = y2 - y1\n",
    "    C = x3 - x1\n",
    "    D = y3 - y1\n",
    "    E = A*(x1+x2) + B*(y1+y2)\n",
    "    F = C*(x1+x3) + D*(y1+y3)\n",
    "    G = 2*(A*(y3-y2) - B*(x3-x2))\n",
    "    if G == 0:\n",
    "        return None\n",
    "    center_x = (D*E - B*F) / G\n",
    "    center_y = (A*F - C*E) / G\n",
    "    radius = np.sqrt((center_x-x1)**2 + (center_y-y1)**2)\n",
    "    return (center_x, center_y), radius\n",
    "\n",
    "def draw(self, *args):\n",
    "    # Удаляем все нарисованные объекты на холсте\n",
    "    self.canvas.delete(\"all\")\n",
    "\n",
    "    # Получаем текущее значение n из переменной\n",
    "    n = self.n.get()\n",
    "\n",
    "    # Задаем координаты вершин треугольника\n",
    "    triangle_points = [[200, 50], [50, 350], [350, 350]]\n",
    "\n",
    "    # Определяем центр и радиус окружности вписанной в треугольник\n",
    "    center, radius = calculate_circle(triangle_points)\n",
    "\n",
    "    # Создаем массив точек для рисования окружности\n",
    "    t = np.linspace(0, 2*np.pi, 100)\n",
    "    x = center[0] + radius * np.cos(t)\n",
    "    y = center[1] + radius * np.sin(t)\n",
    "\n",
    "    # Масштабируем координаты точек и создаем список кортежей\n",
    "    circle_points = [(xx, yy) for xx, yy in zip(x, y)]\n",
    "    circle_points = [(xx, 400-yy) for (xx, yy) in circle_points]  # переводим координаты y из вертикальной в горизонтальную систему координат\n",
    "\n",
    "    # Рисуем полигон треугольника с серым цветом заливки\n",
    "    self.canvas.create_polygon(triangle_points, outline='white', fill='#333333')\n",
    "\n",
    "    # Рисуем окружность с белым цветом контура\n",
    "    self.canvas.create_polygon(circle_points, outline='white', fill='', width=3)\n"
   ],
   "metadata": {
    "collapsed": false
   }
  }
 ],
 "metadata": {
  "kernelspec": {
   "display_name": "Python 3",
   "language": "python",
   "name": "python3"
  },
  "language_info": {
   "codemirror_mode": {
    "name": "ipython",
    "version": 2
   },
   "file_extension": ".py",
   "mimetype": "text/x-python",
   "name": "python",
   "nbconvert_exporter": "python",
   "pygments_lexer": "ipython2",
   "version": "2.7.6"
  }
 },
 "nbformat": 4,
 "nbformat_minor": 0
}
